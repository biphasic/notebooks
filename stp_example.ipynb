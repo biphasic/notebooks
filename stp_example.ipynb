{
 "cells": [
  {
   "cell_type": "code",
   "execution_count": null,
   "metadata": {},
   "outputs": [],
   "source": [
    "import torch\n",
    "from norse.torch.functional.tsodyks_makram import stp_step, TsodyksMakramState, TsodyksMakramParameters"
   ]
  },
  {
   "cell_type": "code",
   "execution_count": null,
   "metadata": {},
   "outputs": [],
   "source": [
    "def example(p):\n",
    "    dt = 0.001\n",
    "    z = torch.zeros(1000)\n",
    "    z[::100] = 1.0\n",
    "    z[0:10] = 0.0\n",
    " \n",
    "    s = TsodyksMakramState(x=1.0, u=0.0)\n",
    "    i = 0.0\n",
    "    xs = []\n",
    "    us = []\n",
    "    current = []\n",
    "\n",
    "    for ts in range(1000):\n",
    "        x, s = stp_step(z[ts], s, p)\n",
    "        di = -p.tau_s_inv * i\n",
    "        i  = i + dt * di + x\n",
    "        xs += [s.x]\n",
    "        us += [s.u]\n",
    "        current += [i]\n",
    "\n",
    "    xs = torch.stack(xs)\n",
    "    us = torch.stack(us)\n",
    "    current = torch.stack(current)\n",
    "    \n",
    "    return xs, us, current\n",
    "\n",
    "\n",
    "xs, us, current = example(TsodyksMakramParameters(\n",
    "        tau_f_inv = 1 / (50.0e-3),\n",
    "        tau_s_inv = 1 / (20.0e-3),\n",
    "        tau_d_inv = 1 / (750.0e-3),\n",
    "        U = 0.45\n",
    "))"
   ]
  },
  {
   "cell_type": "code",
   "execution_count": null,
   "metadata": {},
   "outputs": [],
   "source": [
    "import matplotlib.pyplot as plt\n",
    "import numpy as np\n",
    "\n",
    "plt.xlabel('time [s]')\n",
    "plt.plot(np.arange(0,1.0,0.001), current)"
   ]
  },
  {
   "cell_type": "code",
   "execution_count": null,
   "metadata": {},
   "outputs": [],
   "source": [
    "plt.plot(np.arange(0,1.0,0.001), xs, label='x')\n",
    "plt.plot(np.arange(0,1.0,0.001), us, label='u')\n",
    "plt.legend()"
   ]
  },
  {
   "cell_type": "code",
   "execution_count": null,
   "metadata": {},
   "outputs": [],
   "source": [
    "xs, us, current = example(TsodyksMakramParameters(\n",
    "    tau_f_inv = 1 / (750.0e-3),\n",
    "    tau_s_inv = 1 / (20.0e-3),\n",
    "    tau_d_inv = 1 / (50.0e-3),\n",
    "    U = 0.15\n",
    "))"
   ]
  },
  {
   "cell_type": "code",
   "execution_count": null,
   "metadata": {},
   "outputs": [],
   "source": [
    "plt.plot(np.arange(0,1.0,0.001), xs, label='x')\n",
    "plt.plot(np.arange(0,1.0,0.001), us, label='u')\n",
    "plt.legend()"
   ]
  },
  {
   "cell_type": "code",
   "execution_count": null,
   "metadata": {},
   "outputs": [],
   "source": [
    "plt.xlabel('time [s]')\n",
    "plt.plot(np.arange(0,1.0,0.001), current)"
   ]
  },
  {
   "cell_type": "code",
   "execution_count": null,
   "metadata": {},
   "outputs": [],
   "source": []
  }
 ],
 "metadata": {
  "kernelspec": {
   "display_name": "Python 3",
   "language": "python",
   "name": "python3"
  },
  "language_info": {
   "codemirror_mode": {
    "name": "ipython",
    "version": 3
   },
   "file_extension": ".py",
   "mimetype": "text/x-python",
   "name": "python",
   "nbconvert_exporter": "python",
   "pygments_lexer": "ipython3",
   "version": "3.8.6"
  }
 },
 "nbformat": 4,
 "nbformat_minor": 4
}
